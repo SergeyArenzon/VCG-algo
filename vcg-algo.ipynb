{
 "cells": [
  {
   "cell_type": "code",
   "execution_count": 17,
   "metadata": {},
   "outputs": [],
   "source": [
    "import networkx as nx"
   ]
  },
  {
   "cell_type": "code",
   "execution_count": 141,
   "metadata": {},
   "outputs": [],
   "source": [
    "\n",
    "\n",
    "\n",
    "def shortestPathPrice(G,source,target):\n",
    "    \n",
    "    path = nx.dijkstra_path(G,source,target)\n",
    "    price = 0\n",
    "    i=0\n",
    "    for i in range(len(path)-1):\n",
    "        price += G[path[i]][path[i+1]][\"weight\"]\n",
    "        \n",
    "    return price   \n",
    "\n",
    "\n",
    "\n",
    "\n",
    "\n",
    "\n",
    "def vcg_cheapest_path(graph,source,target):\n",
    "    shortestPrice = shortestPathPrice(graph,source,target)\n",
    "    shortestPath = nx.dijkstra_path(graph,source,target)\n",
    "    \n",
    "    for i in range(len(shortestPath)-1):\n",
    "        RemovedEdge = (shortestPath[i],shortestPath[i+1])\n",
    "        RemovedEdgePrice = graph[shortestPath[i]][shortestPath[i+1]][\"weight\"]\n",
    "        print(\"Edge: {}\".format(RemovedEdge),end=\"\")\n",
    "        graph.remove_edge(RemovedEdge[0],RemovedEdge[1])\n",
    "        newPrice = -shortestPathPrice(graph,source,target)\n",
    "        payPrice = newPrice - (-shortestPrice - (-RemovedEdgePrice))\n",
    "        print(\" Will pay: {}\".format(payPrice))\n",
    "        graph.add_edge(shortestPath[i],shortestPath[i+1],weight = RemovedEdgePrice)\n",
    "\n",
    "    \n",
    "    "
   ]
  },
  {
   "cell_type": "code",
   "execution_count": 142,
   "metadata": {},
   "outputs": [],
   "source": [
    "\n",
    "\n",
    "\n",
    "G = nx.Graph()\n",
    "G.add_edge(1, 2, weight=3 )\n",
    "G.add_edge(1,3,weight=5)\n",
    "G.add_edge(3,4,weight=1)\n",
    "G.add_edge(4,2,weight=4)\n",
    "G.add_edge(3,2,weight=1)\n",
    "G.add_edge(1,4,weight=10)\n",
    "\n",
    "vcg_cheapest_path(G,1,4)"
   ]
  }
 ],
 "metadata": {
  "kernelspec": {
   "display_name": "Python 3",
   "language": "python",
   "name": "python3"
  },
  "language_info": {
   "codemirror_mode": {
    "name": "ipython",
    "version": 3
   },
   "file_extension": ".py",
   "mimetype": "text/x-python",
   "name": "python",
   "nbconvert_exporter": "python",
   "pygments_lexer": "ipython3",
   "version": "3.7.5"
  }
 },
 "nbformat": 4,
 "nbformat_minor": 2
}
